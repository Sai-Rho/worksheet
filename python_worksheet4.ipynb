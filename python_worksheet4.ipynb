{
 "cells": [
  {
   "cell_type": "markdown",
   "metadata": {},
   "source": [
    "# Q14 and Q15 are programming questions. Answer them in Jupyter Notebook.\n",
    "\n"
   ]
  },
  {
   "cell_type": "markdown",
   "metadata": {},
   "source": [
    "14. Write a python program to represent a user entered number in expanded form.\n",
    "\n",
    "    For eg: user_input = 12345\n",
    "    \n",
    "    Output = 1 * 10000 + 2 * 1000 + 3 * 100 + 4 * 10 + 5 * 1\n",
    "    \n"
   ]
  },
  {
   "cell_type": "code",
   "execution_count": 13,
   "metadata": {},
   "outputs": [
    {
     "name": "stdout",
     "output_type": "stream",
     "text": [
      "Enter a number: 456789\n",
      "400000+50000+6000+700+80+9\n"
     ]
    }
   ],
   "source": [
    "#enter the number to expand\n",
    "\n",
    "num = int(input(\"Enter a number: \"))\n",
    "\n",
    "def expanded_form(num):\n",
    "    result = []\n",
    "    divider = 10\n",
    "    while divider < num:\n",
    "        temp = num%divider\n",
    "        if temp != 0:\n",
    "            result.insert(0, str(temp))\n",
    "        num -= temp\n",
    "        divider *= 10\n",
    "    result.insert(0, str(num))\n",
    "    return '+'.join(result)\n",
    "\n",
    "print(expanded_form(num))\n"
   ]
  },
  {
   "cell_type": "code",
   "execution_count": null,
   "metadata": {},
   "outputs": [],
   "source": []
  },
  {
   "cell_type": "markdown",
   "metadata": {},
   "source": [
    "15. Write a python program to determine whether the number entered by the user is an Armstrong number or not?"
   ]
  },
  {
   "cell_type": "markdown",
   "metadata": {},
   "source": [
    "Answer:\n",
    "\n",
    "An Armstrong number, also known as narcissistic number, is a number that is equal to the sum of the cubes of its own digits"
   ]
  },
  {
   "cell_type": "code",
   "execution_count": 10,
   "metadata": {},
   "outputs": [
    {
     "name": "stdout",
     "output_type": "stream",
     "text": [
      "Enter a number: 6895\n",
      "6895 is not an Armstrong number\n"
     ]
    }
   ],
   "source": [
    "# take input from the user\n",
    "\n",
    "number = int(input(\"Enter a number: \"))\n",
    "\n",
    "# initialize sum\n",
    "\n",
    "sum = 0\n",
    "\n",
    "# find the sum of the cube of each digit\n",
    "\n",
    "temp = number\n",
    "while temp > 0:\n",
    "    digit = temp % 10\n",
    "    sum += digit ** 3\n",
    "    temp //= 10\n",
    "\n",
    "if number == sum:\n",
    "    print(number,\"is an Armstrong number\")\n",
    "else:\n",
    "    print(number,\"is not an Armstrong number\")"
   ]
  },
  {
   "cell_type": "code",
   "execution_count": null,
   "metadata": {},
   "outputs": [],
   "source": []
  }
 ],
 "metadata": {
  "kernelspec": {
   "display_name": "Python 3",
   "language": "python",
   "name": "python3"
  },
  "language_info": {
   "codemirror_mode": {
    "name": "ipython",
    "version": 3
   },
   "file_extension": ".py",
   "mimetype": "text/x-python",
   "name": "python",
   "nbconvert_exporter": "python",
   "pygments_lexer": "ipython3",
   "version": "3.7.6"
  }
 },
 "nbformat": 4,
 "nbformat_minor": 4
}
