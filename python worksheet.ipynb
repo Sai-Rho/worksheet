{
 "cells": [
  {
   "cell_type": "markdown",
   "metadata": {},
   "source": [
    "\n",
    "# Programming Questions"
   ]
  },
  {
   "cell_type": "markdown",
   "metadata": {},
   "source": [
    "# Q14 and Q15 are programming questions. Answer them in Jupyter Notebook."
   ]
  },
  {
   "cell_type": "markdown",
   "metadata": {},
   "source": [
    "14. Question\n",
    "Write a python program to solve a quadratic equation of the form 𝑎𝑥2 + 𝑏𝑥 + 𝑐 = 0. Where a, b and c \n",
    "are to be taken by user input. Handle the erroneous input, such as ‘a’ should not be equal to 0."
   ]
  },
  {
   "cell_type": "markdown",
   "metadata": {},
   "source": [
    "Quadratic Equation is ax²+bx+c = 0. A Quadratic Equation can have two roots.\n",
    "Initially we should calculate the discriminant and then find the two solutions of the quadratic equation."
   ]
  },
  {
   "cell_type": "code",
   "execution_count": null,
   "metadata": {},
   "outputs": [],
   "source": [
    "# Solve the quadratic equation 𝑎𝑥2 + 𝑏𝑥 + 𝑐 = 0\n",
    "\n",
    "import cmath as cm\n",
    "\n",
    "a = int(input('Enter a: '))  \n",
    "b = int(input('Enter b: '))  \n",
    "c = int(input('Enter c: '))  \n",
    " \n",
    "if a>0:\n",
    "    print('a value is postive ')\n",
    "else:\n",
    "    print('enter value greater than 0 ')\n",
    "    \n",
    "# calculating the discriminant\n",
    "\n",
    "r = (b**2) - (4*a*c)\n",
    "\n",
    "# find both postive and negative solutions\n",
    "\n",
    "sol1 = (-b-cm.sqrt(r))/(2*a)\n",
    "sol2 = (-b+cm.sqrt(r))/(2*a)\n",
    "print('solutions')\n",
    "print(sol1)  \n",
    "print(sol2)   "
   ]
  },
  {
   "cell_type": "markdown",
   "metadata": {},
   "source": [
    "15. Write a python program to find the sum of first ‘n’ natural numbers without using any loop. Ask user to input\n",
    "    the value of ‘n’."
   ]
  },
  {
   "cell_type": "markdown",
   "metadata": {},
   "source": [
    "Formula to find the sum of first n natural number = n * (n+1) / 2\n"
   ]
  },
  {
   "cell_type": "code",
   "execution_count": 41,
   "metadata": {},
   "outputs": [
    {
     "name": "stdout",
     "output_type": "stream",
     "text": [
      "Enter n: 4\n",
      "Sum of first  4 natural numbers is:  10.0\n"
     ]
    }
   ],
   "source": [
    "#enter the n value\n",
    "n = int(input('Enter n: '))\n",
    "\n",
    "#Formula to calculate sum of natural numbers \n",
    "sum = n * (n+1) / 2\n",
    "        \n",
    "print(\"Sum of first \", n, \"natural numbers is: \", sum )\n"
   ]
  }
 ],
 "metadata": {
  "kernelspec": {
   "display_name": "Python 3",
   "language": "python",
   "name": "python3"
  }
 },
 "nbformat": 4,
 "nbformat_minor": 4
}
