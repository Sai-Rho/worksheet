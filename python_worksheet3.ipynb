{
 "cells": [
  {
   "cell_type": "markdown",
   "metadata": {},
   "source": [
    "# Q11 to Q15 are programming questions. Answer them in Jupyter Notebook.\n"
   ]
  },
  {
   "cell_type": "markdown",
   "metadata": {},
   "source": [
    "\n",
    "11. Write a python function print pyramid of stars. Level of pyramid should be taken as an input from the user.\n"
   ]
  },
  {
   "cell_type": "code",
   "execution_count": 1,
   "metadata": {},
   "outputs": [
    {
     "name": "stdout",
     "output_type": "stream",
     "text": [
      "Enter the number of rows: \n",
      "7\n",
      "      * \n",
      "     * * \n",
      "    * * * \n",
      "   * * * * \n",
      "  * * * * * \n",
      " * * * * * * \n",
      "* * * * * * * \n"
     ]
    }
   ],
   "source": [
    "#Pyramid of stars \n",
    "#enter the number of rows\n",
    "\n",
    "rows = int(input(\"Enter the number of rows: \\n\"));\n",
    "\n",
    "for i in range(0, rows):\n",
    "    for j in range(0, rows-i-1):\n",
    "        print(end=\" \")\n",
    "        \n",
    "    for j in  range(0, i+1):\n",
    "        print(\"*\",end=\" \")\n",
    "    print()"
   ]
  },
  {
   "cell_type": "markdown",
   "metadata": {},
   "source": [
    "12. Write a python function print Hourglass pattern."
   ]
  },
  {
   "cell_type": "code",
   "execution_count": 2,
   "metadata": {},
   "outputs": [
    {
     "name": "stdout",
     "output_type": "stream",
     "text": [
      "Enter the number of rows: \n",
      "8\n",
      "      * * * * * * * * * \n",
      "       * * * * * * * * \n",
      "        * * * * * * * \n",
      "         * * * * * * \n",
      "          * * * * * \n",
      "           * * * * \n",
      "            * * * \n",
      "             * * \n",
      "              * \n",
      "              * \n",
      "             * * \n",
      "            * * * \n",
      "           * * * * \n",
      "          * * * * * \n",
      "         * * * * * * \n",
      "        * * * * * * * \n",
      "       * * * * * * * * \n",
      "      * * * * * * * * * \n"
     ]
    }
   ],
   "source": [
    "#hour-glass of stars\n",
    "#enter the number of rows\n",
    "\n",
    "rows = int(input(\"Enter the number of rows: \\n\"))  \n",
    "\n",
    "# This is used to print the downward pyramid  \n",
    "\n",
    "k = rows - 2  \n",
    "for i in range(rows, -1 , -1):  \n",
    "    for j in range(k , 0 , -1):  \n",
    "        print(end=\" \")  \n",
    "    k = k + 1  \n",
    "    for j in range(0, i+1):  \n",
    "        print(\"*\" , end=\" \")  \n",
    "    print()  \n",
    "\n",
    "# This is used to print the upward pyramid  \n",
    "\n",
    "k = 2 * rows  - 2  \n",
    "for i in range(0, rows+1):  \n",
    "    for j in range(0 , k):  \n",
    "        print(end=\" \")  \n",
    "    k = k - 1  \n",
    "    for j in range(0, i + 1):  \n",
    "        print(\"* \", end=\"\")  \n",
    "    print()  "
   ]
  },
  {
   "cell_type": "markdown",
   "metadata": {},
   "source": [
    "13. Write a python function to print Pascal’s Triangle. The number of levels in the triangle must be taken as input\n",
    "by user"
   ]
  },
  {
   "cell_type": "code",
   "execution_count": 3,
   "metadata": {},
   "outputs": [
    {
     "name": "stdout",
     "output_type": "stream",
     "text": [
      "Enter the number of rows: \n",
      "6\n",
      "1 \n",
      "1 1 \n",
      "1 2 1 \n",
      "1 3 3 1 \n",
      "1 4 6 4 1 \n",
      "1 5 10 10 5 1 \n"
     ]
    }
   ],
   "source": [
    "#Pascal’s Triangle\n",
    "#enter the number of rows\n",
    "rows = int(input(\"Enter the number of rows: \\n\"))  \n",
    "\n",
    "for line in range(1, rows + 1): \n",
    "\n",
    "        C = 1; \n",
    "        for i in range(1, line + 1):  \n",
    "              \n",
    "            # The first value in a line is always 1  \n",
    "           \n",
    "            print(C, end = \" \");  \n",
    "            C = int(C * (line - i) / i);  \n",
    "        print(\"\"); "
   ]
  },
  {
   "cell_type": "markdown",
   "metadata": {},
   "source": [
    "14. Write a python function to print Diamond Shaped Pattern shown below. Function must take integer input\n",
    "which represents the number of stars in the middle most line"
   ]
  },
  {
   "cell_type": "code",
   "execution_count": 4,
   "metadata": {},
   "outputs": [
    {
     "name": "stdout",
     "output_type": "stream",
     "text": [
      "Enter the size: \n",
      "8\n",
      "               * \n",
      "              * * \n",
      "             * * * \n",
      "            * * * * \n",
      "           * * * * * \n",
      "          * * * * * * \n",
      "         * * * * * * * \n",
      "        * * * * * * * * \n",
      "       * * * * * * * * * \n",
      "        * * * * * * * * \n",
      "         * * * * * * * \n",
      "          * * * * * * \n",
      "           * * * * * \n",
      "            * * * * \n",
      "             * * * \n",
      "              * * \n",
      "               * \n"
     ]
    }
   ],
   "source": [
    "#Diamond Shaped Pattern\n",
    "#enter the number of size\n",
    "size = int(input(\"Enter the size: \\n\"))  \n",
    "k = 2 * size - 1\n",
    "for i in range(0, size):\n",
    "    for j in range(0, k):\n",
    "        print(end=\" \")\n",
    "    k = k - 1\n",
    "    for j in range(0, i + 1):\n",
    "        print(\"* \", end=\"\")\n",
    "    print(\"\")\n",
    "    \n",
    "k = size - 1\n",
    "for i in range(size, -1, -1):\n",
    "    for j in range(k, 0, -1):\n",
    "        print(end=\" \")\n",
    "    k = k + 1\n",
    "    for j in range(0, i + 1):\n",
    "        print(\"* \", end=\"\")\n",
    "    print(\"\")"
   ]
  },
  {
   "cell_type": "markdown",
   "metadata": {},
   "source": [
    "15. Write a python function to print Diamond Shaped Character Pattern shown below. Function must take integer\n",
    "input within range 1 to 26, which represents the rank of alphabet"
   ]
  },
  {
   "cell_type": "code",
   "execution_count": 6,
   "metadata": {
    "scrolled": false
   },
   "outputs": [
    {
     "name": "stdout",
     "output_type": "stream",
     "text": [
      "Enter the rows: \n",
      "8\n",
      "        A \n",
      "       A B \n",
      "      A B C \n",
      "     A B C D \n",
      "    A B C D E \n",
      "   A B C D E F \n",
      "  A B C D E F G \n",
      " A B C D E F G H \n",
      " A B C D E F G \n",
      "  A B C D E F \n",
      "   A B C D E \n",
      "    A B C D \n",
      "     A B C \n",
      "      A B \n",
      "       A \n"
     ]
    }
   ],
   "source": [
    "# Diamond Shaped Character Pattern\n",
    "#enter the number of size\n",
    "\n",
    "n = int(input(\"Enter the rows: \\n\"))  \n",
    "\n",
    "for i in range(n):\n",
    "    print(' '*(n-i-1),end=\" \")\n",
    "    for j in range(i+1):\n",
    "        print(chr(65+j),end=\" \")\n",
    "    print()\n",
    "    \n",
    "for i in range(n-1):\n",
    "    print(' '*i,end=\" \")\n",
    "    for j in range(n-i-1):\n",
    "        print(chr(65+j),end=\" \")\n",
    "    print()    "
   ]
  },
  {
   "cell_type": "code",
   "execution_count": null,
   "metadata": {},
   "outputs": [],
   "source": []
  }
 ],
 "metadata": {
  "kernelspec": {
   "display_name": "Python 3",
   "language": "python",
   "name": "python3"
  },
  "language_info": {
   "codemirror_mode": {
    "name": "ipython",
    "version": 3
   },
   "file_extension": ".py",
   "mimetype": "text/x-python",
   "name": "python",
   "nbconvert_exporter": "python",
   "pygments_lexer": "ipython3",
   "version": "3.7.6"
  }
 },
 "nbformat": 4,
 "nbformat_minor": 4
}
