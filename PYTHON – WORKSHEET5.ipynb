{
 "cells": [
  {
   "cell_type": "markdown",
   "metadata": {},
   "source": [
    "# Q12 to Q15 are programming questions. Answer them in Jupyter Notebook.\n"
   ]
  },
  {
   "cell_type": "markdown",
   "metadata": {},
   "source": [
    "\n",
    "12. write a python program to square the elements of a list by using list comprehension.\n"
   ]
  },
  {
   "cell_type": "code",
   "execution_count": 18,
   "metadata": {},
   "outputs": [
    {
     "name": "stdout",
     "output_type": "stream",
     "text": [
      "[1, 4, 9, 16, 25]\n"
     ]
    }
   ],
   "source": [
    "num = [1, 2, 3, 4, 5]\n",
    "\n",
    "squared_num = [number ** 2 for number in num]\n",
    "\n",
    "print(squared_num)\n"
   ]
  },
  {
   "cell_type": "markdown",
   "metadata": {},
   "source": [
    "13. Write a pyhton program to drop duplicate elements from a list of numbers.\n"
   ]
  },
  {
   "cell_type": "code",
   "execution_count": 14,
   "metadata": {},
   "outputs": [
    {
     "name": "stdout",
     "output_type": "stream",
     "text": [
      "[1, 2, 3, 4, 5, 6]\n"
     ]
    }
   ],
   "source": [
    "#elements of a list \n",
    "\n",
    "mylist = [1,1,2,3,2,2,4,5,6,2,1]\n",
    "\n",
    "final_list = set(mylist)\n",
    "\n",
    "print(list(final_list))"
   ]
  },
  {
   "cell_type": "markdown",
   "metadata": {},
   "source": [
    "14. Take two sets of numbers and try implementing the set operations - intersection, union, difference and symmetric_difference \n",
    "    between them.\n"
   ]
  },
  {
   "cell_type": "code",
   "execution_count": 19,
   "metadata": {},
   "outputs": [
    {
     "name": "stdout",
     "output_type": "stream",
     "text": [
      "Intersection : {2, 3}\n",
      "Union : {1, 2, 3, 4}\n",
      "Difference: {1}\n",
      "Symmetric_Difference : {1, 4}\n"
     ]
    }
   ],
   "source": [
    "#Intersection\n",
    "\n",
    "a = set([1, 2, 3])\n",
    "b = set([2, 3, 4])\n",
    "inter_section = a.intersection(b)\n",
    "print(\"Intersection :\",inter_section)\n",
    "\n",
    "#Union\n",
    "\n",
    "Union = a.union(b)\n",
    "print(\"Union :\",Union)\n",
    "\n",
    "#Difference\n",
    "\n",
    "Difference = a.difference(b)\n",
    "print(\"Difference:\",Difference)\n",
    "\n",
    "#Symmetric difference\n",
    "\n",
    "Symmetric_Difference = a.symmetric_difference(b)\n",
    "print(\"Symmetric_Difference :\",Symmetric_Difference)"
   ]
  },
  {
   "cell_type": "markdown",
   "metadata": {},
   "source": [
    "15. Write a python program to add the elements of a set."
   ]
  },
  {
   "cell_type": "code",
   "execution_count": 5,
   "metadata": {},
   "outputs": [
    {
     "name": "stdout",
     "output_type": "stream",
     "text": [
      "spell : {'y', 'h', 'n', 'p', 'o', 't'}\n",
      "spell : {'y', 'h', 'n', 'p', 'o', 't'}\n"
     ]
    }
   ],
   "source": [
    "spell = {'p', 'y', 't', 'h', 'o'}\n",
    "\n",
    "# adding 'n'\n",
    "spell.add('n')\n",
    "print('spell :', spell)\n",
    "\n",
    "# adding 'a' again\n",
    "spell.add('p')\n",
    "print('spell :', spell)"
   ]
  },
  {
   "cell_type": "code",
   "execution_count": null,
   "metadata": {},
   "outputs": [],
   "source": []
  }
 ],
 "metadata": {
  "kernelspec": {
   "display_name": "Python 3",
   "language": "python",
   "name": "python3"
  },
  "language_info": {
   "codemirror_mode": {
    "name": "ipython",
    "version": 3
   },
   "file_extension": ".py",
   "mimetype": "text/x-python",
   "name": "python",
   "nbconvert_exporter": "python",
   "pygments_lexer": "ipython3",
   "version": "3.7.6"
  }
 },
 "nbformat": 4,
 "nbformat_minor": 4
}
